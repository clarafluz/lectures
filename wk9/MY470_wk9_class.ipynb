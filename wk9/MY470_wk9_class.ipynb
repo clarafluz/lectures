{
 "cells": [
  {
   "cell_type": "markdown",
   "metadata": {
    "slideshow": {
     "slide_type": "slide"
    }
   },
   "source": [
    "### MY470 Computer Programming\n",
    "# Order of Growth\n",
    "### Week 9 Lab\n",
    "\n",
    "We always (only) keep the \"dominant\" term"
   ]
  },
  {
   "cell_type": "markdown",
   "metadata": {
    "slideshow": {
     "slide_type": "slide"
    }
   },
   "source": [
    "![Big-O Comparison](figs/big-o-table.png \"Big-O Comparison\")"
   ]
  },
  {
   "cell_type": "markdown",
   "metadata": {
    "slideshow": {
     "slide_type": "slide"
    }
   },
   "source": [
    "## Runtime: Benchmarking\n",
    "\n",
    "Use `time` module:\n",
    "\n",
    "1. Save time immediately before code\n",
    "2. Save time immediately after code\n",
    "3. Estimate 2 – 1"
   ]
  },
  {
   "cell_type": "code",
   "execution_count": 15,
   "metadata": {
    "slideshow": {
     "slide_type": "-"
    }
   },
   "outputs": [
    {
     "name": "stdout",
     "output_type": "stream",
     "text": [
      "0.0024247169494628906\n"
     ]
    }
   ],
   "source": [
    "import time\n",
    "\n",
    "ls = list(range(100000))\n",
    "\n",
    "start = time.time()\n",
    "ls.count(99999)\n",
    "end = time.time()\n",
    "print(end - start)"
   ]
  },
  {
   "cell_type": "markdown",
   "metadata": {
    "slideshow": {
     "slide_type": "slide"
    }
   },
   "source": [
    "## Benchmarking: Repeat to Time More Accurately\n",
    "\n",
    "* Execution time can be affected by other processes running simultaneously\n",
    "* Execution time can depend on the order of execution (randomize execution order)\n",
    "\n",
    "only used to compare different functions/modules/codes, not as an absolute number as affected by so much"
   ]
  },
  {
   "cell_type": "code",
   "execution_count": 21,
   "metadata": {
    "slideshow": {
     "slide_type": "fragment"
    }
   },
   "outputs": [
    {
     "name": "stdout",
     "output_type": "stream",
     "text": [
      "0.0013585186004638672\n"
     ]
    },
    {
     "data": {
      "text/plain": [
       "0.001242046129773371"
      ]
     },
     "execution_count": 21,
     "metadata": {},
     "output_type": "execute_result"
    }
   ],
   "source": [
    "# Do it yourself\n",
    "ls = list(range(100000))\n",
    "\n",
    "res = 0\n",
    "for i in range(100):\n",
    "    start = time.time()\n",
    "    ls.count(99999)\n",
    "    end = time.time()\n",
    "    res += end - start\n",
    "print(res / 100)\n",
    "\n",
    "# Use a module\n",
    "from timeit import timeit \n",
    "timeit(stmt='ls.count(99999)', setup='ls = list(range(100000))', number=100) / 100\n",
    "# need to feed the code strings and also use \"setup\", so a bit clunky\n",
    "# but allows us to specify how many times to run it and then to average the results\n",
    "\n"
   ]
  },
  {
   "cell_type": "code",
   "execution_count": null,
   "metadata": {
    "collapsed": true,
    "slideshow": {
     "slide_type": "fragment"
    }
   },
   "outputs": [],
   "source": [
    "### R code ###\n",
    "\n",
    "require(microbenchmark)\n",
    "\n",
    "ls <- seq(0, 99999)\n",
    "microbenchmark(sum(ls == 99999))\n",
    "\n",
    "# Unit: microseconds\n",
    "#             expr     min      lq     mean  median       uq      max neval\n",
    "# sum(ls == 99999) 368.309 416.865 684.3047 559.569 706.2215 3955.864   100"
   ]
  },
  {
   "cell_type": "markdown",
   "metadata": {
    "slideshow": {
     "slide_type": "slide"
    }
   },
   "source": [
    "## Runtime: Order of Growth\n",
    "\n",
    "* Consider the worst-case scenario\n",
    "* Look at:\n",
    "    * Function and method calls \n",
    "    * Recursive calls\n",
    "    * Loops\n",
    "* Keep the term with the largest growth rate\n",
    "* Drop any constants from the remaining term"
   ]
  },
  {
   "cell_type": "markdown",
   "metadata": {
    "slideshow": {
     "slide_type": "slide"
    }
   },
   "source": [
    "**Exercise 1**: The following functions show the average number of operations required to perform some algorithm on a list of length $n$. Give the Big-O notation for the time complexity of each algorithm:\n",
    "\n",
    "a) $4n^2 + 2n + 2$\n",
    "\n",
    "b) $n + \\log n$\n",
    "\n",
    "c) $n \\log n$\n",
    "\n",
    "d) 3"
   ]
  },
  {
   "cell_type": "markdown",
   "metadata": {},
   "source": [
    "**Answers exercise 1:**\n",
    "\n",
    "a) O($n^2$)\n",
    "\n",
    "b) O(n)\n",
    "\n",
    "c) O(n log n)\n",
    "\n",
    "d) O(1)\n"
   ]
  },
  {
   "cell_type": "code",
   "execution_count": null,
   "metadata": {
    "collapsed": true,
    "slideshow": {
     "slide_type": "slide"
    }
   },
   "outputs": [],
   "source": [
    "# Exercise 2: Give the order of growth for the function \n",
    "# and explain your reasoning in a couple of sentences.\n",
    "\n",
    "def sum_product(ls):\n",
    "    summ, product = 0, 1\n",
    "    for i in range(len(ls)):\n",
    "        summ += ls[i]\n",
    "    for j in range(len(ls)):\n",
    "        product *= ls[j]\n",
    "    return summ, product   \n",
    "\n",
    "# Your answer: \n",
    "# O(n) where n is the length of list\n",
    "# because it includes two non-nested loops that each consider one specific element of a list\n",
    "# so it is: n + n -> O = O(n)\n",
    "\n",
    "# line 1: O(1)\n",
    "# line 2: O(n)\n",
    "# line 3: O(1)\n",
    "# line 4: O(n)\n",
    "# line 5: O(1)\n",
    "# line 6: O(1)\n",
    "\n",
    "# Order of growth: 1 + n*1 + n*1 + 1 -> big-O = O(n)\n",
    "\n",
    "# Model answer:\n",
    "# The time complexity of the function is O(n) where n is the length of list ls.\n",
    "# The function iterates over the list twice, once to calculate the sum and once to calculate the product.\n",
    "# However, we ignore constants, hence it is O(n).\n",
    "\n",
    "# needs: correct answer, what n is, what function does"
   ]
  },
  {
   "cell_type": "code",
   "execution_count": null,
   "metadata": {
    "collapsed": true,
    "scrolled": true,
    "slideshow": {
     "slide_type": "-"
    }
   },
   "outputs": [],
   "source": [
    "# Exercise 3: Give the order of growth for the function \n",
    "# and explain your reasoning in a couple of sentences.\n",
    "\n",
    "def combine(la, lb):\n",
    "    for i in la:\n",
    "        for j in lb:\n",
    "            if i < j:\n",
    "                print(i, '-', j)\n",
    "\n",
    "# Your answer: \n",
    "# O(n^2)\n",
    "# because the function includes a nested loop\n",
    "\n",
    "# line 1: n\n",
    "# line 2: n\n",
    "# line 3: 1\n",
    "# line 4: 1\n",
    "\n",
    "# Order of growth: n*n*1*1 -> big-O = O(n^2)\n",
    "\n",
    "# WE HAVE TWO INPUTS! -> cannot just assume they are the same length!\n",
    "\n",
    "# Correct answer:\n",
    "# O(a*b) where a is the length of la and b is the length of lb.\n",
    "# The function has two different inputs and for each element in the first,\n",
    "# we iterate over all elements in the second. Hence, the time complexity is O(a*b)."
   ]
  },
  {
   "cell_type": "code",
   "execution_count": null,
   "metadata": {
    "collapsed": true,
    "slideshow": {
     "slide_type": "-"
    }
   },
   "outputs": [],
   "source": [
    "# Exercise 4: Give the order of growth for the function \n",
    "# and explain your reasoning in a couple of sentences.\n",
    "\n",
    "def sum_digits(n):\n",
    "    \"\"\"Take positive integer n and sum its digits.\"\"\"\n",
    "    summ = 0\n",
    "    while n > 0:\n",
    "        summ += int(n % 10)\n",
    "        n = int(n / 10)\n",
    "    return summ\n",
    "\n",
    "# Your answer: \n",
    "# O(n)\n",
    "\n",
    "# line 1: 1\n",
    "# line 2: n\n",
    "# line 3: 1\n",
    "# line 4: 1\n",
    "# line 5: 1\n",
    "\n",
    "# Order of growth: 1 + n*1*1 + 1 -> big-O = O(n)\n",
    "\n",
    "# Correct answer:\n",
    "# The runtime is O(log(n)) where n is the integer itself.  The runtime depends on\n",
    "# the number of digits in n, which is log(n) in base 10. A number with d digits\n",
    "# is of size up to 10^d - 1. If n ~ 10^d, then d = log(n).\n",
    "# We iterate d times, hence log n times."
   ]
  },
  {
   "cell_type": "code",
   "execution_count": null,
   "metadata": {},
   "outputs": [],
   "source": [
    "# Exercise 5: Give the order of growth for the code \n",
    "# and explain your reasoning in a couple of sentences.\n",
    "\n",
    "a = 0;\n",
    "for i in range(x):\n",
    "    for j in reversed(range(i, x)):\n",
    "        a = a + i + j\n",
    "        \n",
    "# Your answer: \n",
    "# O(n^2)\n",
    "# nested loop\n",
    "\n",
    "# line 1: n\n",
    "# line 2: n\n",
    "# line 3: 1\n",
    "\n",
    "# order of growth: n*n*1 -> big-O = O(n^2)\n",
    "\n",
    "# Correct answer:\n",
    "# O(x^2) where x is the input to the function.\n",
    "# For the first value, we iterate x times, for the second, x-1 times, for the third, x-2 times, and so on.\n",
    "# The sum of the first x positive integers is x(x+1)/2, hence the total number of iterations is O(x^2) (we ignore constants)."
   ]
  },
  {
   "cell_type": "code",
   "execution_count": null,
   "metadata": {},
   "outputs": [],
   "source": [
    "# Exercise 6: Give the order of growth for the function \n",
    "# and explain your reasoning in a couple of sentences.\n",
    "\n",
    "def factorial(n):\n",
    "    \"\"\"Takes non-negative integer n and returns the factorial n!,\n",
    "    where n! = n * (n-1) * (n-2) ... * 2 * 1\n",
    "    \"\"\"\n",
    "    if n == 0:\n",
    "        return 1\n",
    "    else:\n",
    "        return n * factorial(n-1)\n",
    "        \n",
    "# Your answer: \n",
    "# O(c^n)\n",
    "\n",
    "# Correct answer:\n",
    "# O(n) where n is the input to the function. The function calls itself n times."
   ]
  },
  {
   "cell_type": "code",
   "execution_count": null,
   "metadata": {
    "collapsed": true,
    "slideshow": {
     "slide_type": "slide"
    }
   },
   "outputs": [],
   "source": [
    "# Exercise 7: This is code submitted by a student for Problem 2 \n",
    "# in Problem Set 1. Given an edge list of coauthors in data, \n",
    "# the task was to create a sorted list of all unique authors. \n",
    "# What is the order of growth of this code? What is wrong here? \n",
    "# How would you rewrite the code to make it more efficient?\n",
    "\n",
    "lst = [] \n",
    "for i,j in data:\n",
    "    lst.append(int(i)) \n",
    "    unique_authors = list(set(lst))\n",
    "    unique_authors.sort()\n",
    "    \n",
    "# Order of growth: n*n*log(n) -> O(n^2*log n)\n",
    "# line 1 (for-loop): O(n)\n",
    "# line 2: O(1)\n",
    "# line 3: O(2n)\n",
    "# line 4: (n log n) -> inside loop: n * n log n -> n^2 log n\n",
    "\n",
    "# Correct answer:\n",
    "# T(n) = n * (1 + 2n + n log n) => O(n^2 log n) where n is the length of the data\n",
    "\n",
    "# rewrite:\n",
    "# just pull it out of the loop so it is not done every single time inside the loop\n",
    "lst = [] \n",
    "for i,j in data:\n",
    "    lst.append(int(i)) \n",
    "unique_authors = list(set(lst))\n",
    "unique_authors.sort()\n",
    "\n",
    "# new big-O: n log n (dominates n)\n",
    "\n"
   ]
  },
  {
   "cell_type": "code",
   "execution_count": 7,
   "metadata": {
    "collapsed": true,
    "slideshow": {
     "slide_type": "slide"
    }
   },
   "outputs": [],
   "source": [
    "# Exercise 8: Compare the execution time for loops \n",
    "# between R and Python using Exercise 4.\n"
   ]
  },
  {
   "cell_type": "code",
   "execution_count": null,
   "metadata": {
    "collapsed": true,
    "slideshow": {
     "slide_type": "-"
    }
   },
   "outputs": [],
   "source": [
    "# Exercise 9: Create a function to multiply each element of a \n",
    "# vector `v` by a scalar `m` in R with and without a for-loop\n",
    "# and compare their execution time.\n",
    "\n",
    "### R code ###\n",
    "multiply <- function (v, m) {\n",
    "  # Write with a for-loop\n",
    "}\n",
    "\n",
    "multiply2 <- function(v, m) {\n",
    "  # Write without a for-loop\n",
    "}\n",
    " "
   ]
  }
 ],
 "metadata": {
  "kernelspec": {
   "display_name": "base",
   "language": "python",
   "name": "python3"
  },
  "language_info": {
   "codemirror_mode": {
    "name": "ipython",
    "version": 3
   },
   "file_extension": ".py",
   "mimetype": "text/x-python",
   "name": "python",
   "nbconvert_exporter": "python",
   "pygments_lexer": "ipython3",
   "version": "3.12.4"
  }
 },
 "nbformat": 4,
 "nbformat_minor": 2
}
