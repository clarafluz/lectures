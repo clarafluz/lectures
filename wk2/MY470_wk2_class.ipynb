{
 "cells": [
  {
   "cell_type": "markdown",
   "metadata": {
    "slideshow": {
     "slide_type": "slide"
    }
   },
   "source": [
    "## MY470 Computer Programming\n",
    "# Working with Strings and Lists in Python\n",
    "### Week 2 Lab"
   ]
  },
  {
   "cell_type": "markdown",
   "metadata": {
    "slideshow": {
     "slide_type": "slide"
    }
   },
   "source": [
    "## Variables\n",
    "\n",
    "Variables associate objects (values) with a name. Objects have types (belong to classes). Here are the rules for naming variables:\n",
    "* Variables must begin with a letter (a - z, A - Z) or underscore (_)\n",
    "* Variables can contain letters, underscore, and numbers"
   ]
  },
  {
   "cell_type": "markdown",
   "metadata": {
    "slideshow": {
     "slide_type": "fragment"
    }
   },
   "source": [
    "* Watch out for reserved words and names of functions!"
   ]
  },
  {
   "cell_type": "code",
   "execution_count": 4,
   "metadata": {
    "slideshow": {
     "slide_type": "-"
    }
   },
   "outputs": [
    {
     "ename": "SyntaxError",
     "evalue": "invalid syntax (<ipython-input-4-3ecf8fb15fb9>, line 7)",
     "output_type": "error",
     "traceback": [
      "\u001b[1;36m  File \u001b[1;32m\"<ipython-input-4-3ecf8fb15fb9>\"\u001b[1;36m, line \u001b[1;32m7\u001b[0m\n\u001b[1;33m    try = 3\u001b[0m\n\u001b[1;37m        ^\u001b[0m\n\u001b[1;31mSyntaxError\u001b[0m\u001b[1;31m:\u001b[0m invalid syntax\n"
     ]
    }
   ],
   "source": [
    "# List of reserved words in Python: and, as, assert, break, \n",
    "# class, continue, def, del, elif, else, except, exec, \n",
    "# finally, for, from, global, if, import, in, is, lambda, not, \n",
    "# or, pass, print, raise, return, try, while, with, yield\n",
    " \n",
    "trial = 2\n",
    "try = 3\n",
    "\n",
    "# Note that the error below explains what the error is, and where exactly it is located.\n"
   ]
  },
  {
   "cell_type": "code",
   "execution_count": 23,
   "metadata": {
    "slideshow": {
     "slide_type": "fragment"
    }
   },
   "outputs": [
    {
     "name": "stdout",
     "output_type": "stream",
     "text": [
      "[1, 2, 3]\n"
     ]
    },
    {
     "ename": "TypeError",
     "evalue": "'list' object is not callable",
     "output_type": "error",
     "traceback": [
      "\u001b[1;31m---------------------------------------------------------------------------\u001b[0m",
      "\u001b[1;31mTypeError\u001b[0m                                 Traceback (most recent call last)",
      "\u001b[1;32m<ipython-input-23-e0cbabb1e82c>\u001b[0m in \u001b[0;36m<module>\u001b[1;34m\u001b[0m\n\u001b[0;32m      1\u001b[0m \u001b[1;31m#list = [1, 2, 3] # Note the color of \"list\" - Python recognizes this but you are redefining it!\u001b[0m\u001b[1;33m\u001b[0m\u001b[1;33m\u001b[0m\u001b[1;33m\u001b[0m\u001b[0m\n\u001b[0;32m      2\u001b[0m \u001b[0mprint\u001b[0m\u001b[1;33m(\u001b[0m\u001b[0mlist\u001b[0m\u001b[1;33m)\u001b[0m\u001b[1;33m\u001b[0m\u001b[1;33m\u001b[0m\u001b[0m\n\u001b[1;32m----> 3\u001b[1;33m \u001b[0mlist\u001b[0m\u001b[1;33m(\u001b[0m\u001b[1;33m(\u001b[0m\u001b[1;36m10\u001b[0m\u001b[1;33m,\u001b[0m \u001b[1;36m20\u001b[0m\u001b[1;33m,\u001b[0m \u001b[1;36m30\u001b[0m\u001b[1;33m)\u001b[0m\u001b[1;33m)\u001b[0m \u001b[1;31m# The in-built function will no longer work\u001b[0m\u001b[1;33m\u001b[0m\u001b[1;33m\u001b[0m\u001b[0m\n\u001b[0m",
      "\u001b[1;31mTypeError\u001b[0m: 'list' object is not callable"
     ]
    }
   ],
   "source": [
    "list = [1, 2, 3] # Note the color of \"list\" - Python recognizes this but you are redefining it!\n",
    "list((10, 20, 30)) # The in-built function will no longer work"
   ]
  },
  {
   "cell_type": "markdown",
   "metadata": {},
   "source": [
    "**If you catch such an error, delete/edit the code and restart the Kernel!** This will reload all built-in functions, so that you can use them as intended."
   ]
  },
  {
   "cell_type": "markdown",
   "metadata": {
    "slideshow": {
     "slide_type": "slide"
    }
   },
   "source": [
    "## [Style Guide for Python Code (PEP 8)](https://www.python.org/dev/peps/pep-0008/)\n",
    "\n",
    "Get familiar with the guide. We will not enforce it to the letter but expect compliance with most common-sense aspects (e.g., variable names, space around operators, line length, function documentation, ...).\n",
    "\n",
    "* 📖 Use **`UPPERCASE_WITH_UNDERSCORES`** for constants, like passwords or secret keys\n",
    "* 📖 Use **`lowercase_with_underscore`** for variable names, functions, and methods\n",
    "* 📖 Use **`UpperCamelCase`** for classes (coming in Week 5!) "
   ]
  },
  {
   "cell_type": "markdown",
   "metadata": {
    "slideshow": {
     "slide_type": "slide"
    }
   },
   "source": [
    "## Resources\n",
    "\n",
    "In addition to the Python resources online, you can query any object to get help on what methods are available"
   ]
  },
  {
   "cell_type": "code",
   "execution_count": 3,
   "metadata": {
    "slideshow": {
     "slide_type": "-"
    }
   },
   "outputs": [
    {
     "name": "stdout",
     "output_type": "stream",
     "text": [
      "Help on method_descriptor:\n",
      "\n",
      "popitem(self, /)\n",
      "    Remove and return a (key, value) pair as a 2-tuple.\n",
      "    \n",
      "    Pairs are returned in LIFO (last-in, first-out) order.\n",
      "    Raises KeyError if the dict is empty.\n",
      "\n"
     ]
    }
   ],
   "source": [
    "dir(dict)\n",
    "help(dict.popitem)"
   ]
  },
  {
   "cell_type": "markdown",
   "metadata": {
    "slideshow": {
     "slide_type": "slide"
    }
   },
   "source": [
    "# Strings\n",
    "\n",
    "* Ordered sequences of characters\n",
    "* Immutable"
   ]
  },
  {
   "cell_type": "code",
   "execution_count": 5,
   "metadata": {
    "slideshow": {
     "slide_type": "-"
    }
   },
   "outputs": [
    {
     "name": "stdout",
     "output_type": "stream",
     "text": [
      "My string\n",
      "s\n",
      "g\n",
      "My s\n",
      "y strin\n",
      "M tig\n",
      "git M\n"
     ]
    }
   ],
   "source": [
    "x = 'my string'\n",
    "\n",
    "# Capitalises the first character (chr) of the string\n",
    "x = x.capitalize()\n",
    "\n",
    "# prints the string\n",
    "print(x)\n",
    "\n",
    "# prints the chr at index 3\n",
    "print(x[3])\n",
    "\n",
    "# prints the last chr\n",
    "print(x[-1])\n",
    "\n",
    "# print a range \n",
    "# NOTE: not inclusive of the last index, 4 chrs because python starts at 0\n",
    "print(x[0:4])\n",
    "\n",
    "# Index one to the last index\n",
    "# Again, not inclusive\n",
    "print(x[1:-1])\n",
    "\n",
    "# EXTENDED SLICING \n",
    "# Get every other (2) item in the string.\n",
    "print(x[::2])\n",
    "\n",
    "# Reverse steps, every other chr\n",
    "print(x[::-2])\n"
   ]
  },
  {
   "cell_type": "code",
   "execution_count": 10,
   "metadata": {
    "slideshow": {
     "slide_type": "slide"
    }
   },
   "outputs": [
    {
     "name": "stdout",
     "output_type": "stream",
     "text": [
      "rr ee dd\n"
     ]
    }
   ],
   "source": [
    "# Exercise 1: Make three new strings from the first and last, \n",
    "# second and second to last, and third and third to last letters \n",
    "# in the string below. Print the three strings.\n",
    "\n",
    "p = 'redder'\n",
    "\n",
    "newstring1 = p[0] + p[-1]\n",
    "newstring2 = p[1] + p[-2]\n",
    "newstring3 = p[2] + p[3]\n",
    "\n",
    "print(newstring1, newstring2, newstring3)\n",
    "\n"
   ]
  },
  {
   "cell_type": "code",
   "execution_count": 18,
   "metadata": {
    "slideshow": {
     "slide_type": "-"
    }
   },
   "outputs": [
    {
     "name": "stdout",
     "output_type": "stream",
     "text": [
      "\n"
     ]
    }
   ],
   "source": [
    "# Exercise 2: Make a new string that is the same as string1 but \n",
    "# with the 8th and 22nd characters missing.\n",
    "\n",
    "string1 = 'I cancelled my travelling plans.'\n",
    "\n",
    "#go up to character 7 including (index 6, but including it, so up to index 7)\n",
    "string1[:7] + string1[8:21] + string1[22:]\n",
    "\n",
    "#other methods: replace\n",
    "#issue: index changes once we replace them -> if anything, start from the back (with 22nd!)\n",
    "\n",
    "#alternative: list ->  inefficient!\n",
    "#start from the back (22nd first) because otherwise index changes\n",
    "ls = list(string1)\n",
    "ls.pop(21)\n",
    "ls.pop(7)\n",
    "#joins the list into one string -> takes empty string and joins the elements\n",
    "''.join(ls)\n"
   ]
  },
  {
   "cell_type": "markdown",
   "metadata": {
    "slideshow": {
     "slide_type": "slide"
    }
   },
   "source": [
    "## String Methods\n",
    "\n",
    "* `S.upper()`\n",
    "* `S.lower()`\n",
    "* `S.capitalize()`\n",
    "* `S.find(S1)`\n",
    "* `S.replace(S1, S2)`\n",
    "* `S.strip(S1)`\n",
    "* `S.split(S1)`\n",
    "* `S.join(L)`"
   ]
  },
  {
   "cell_type": "markdown",
   "metadata": {
    "slideshow": {
     "slide_type": "slide"
    }
   },
   "source": [
    "## Methods Can Be \"Stringed\"\n",
    "\n",
    "`sls = s.strip().replace('  ', ' ').upper().split()`\n",
    "\n",
    "However, be aware that this may reduce the clarity of your code. \n",
    "\n",
    "📖 It is largely a question of code legibility. \n",
    "\n",
    "⚡️ Except when you are working with large data — it is then also a question of memory."
   ]
  },
  {
   "cell_type": "code",
   "execution_count": 52,
   "metadata": {
    "scrolled": true,
    "slideshow": {
     "slide_type": "slide"
    }
   },
   "outputs": [
    {
     "data": {
      "text/plain": [
       "'This is a very badly formatted string - I would like to make it cleaner.'"
      ]
     },
     "execution_count": 52,
     "metadata": {},
     "output_type": "execute_result"
    }
   ],
   "source": [
    "# Exercise 3: Remove the trailing white space in the string below, \n",
    "# replace all double spaces with single space, and format to a sentence \n",
    "# with proper punctuation. Print the resulting string.\n",
    "\n",
    "string1 = '  this  is a very badly.  formatted string -  I would  like to make it cleaner\\n'\n",
    "\n",
    "#for now, the only way to replace the i to I is the one below, we might learn other ones\n",
    "string1 = string1.strip().replace('  ', ' ').capitalize().replace('.', '').replace(' i ', ' I ')\n",
    "\n",
    "string1 = string1 + '.'\n",
    "\n",
    "string1\n"
   ]
  },
  {
   "cell_type": "code",
   "execution_count": 66,
   "metadata": {
    "slideshow": {
     "slide_type": "slide"
    }
   },
   "outputs": [
    {
     "name": "stdout",
     "output_type": "stream",
     "text": [
      "['apple', 'orange', 'pear', 'cherry']\n"
     ]
    },
    {
     "data": {
      "text/plain": [
       "'apple'"
      ]
     },
     "execution_count": 66,
     "metadata": {},
     "output_type": "execute_result"
    }
   ],
   "source": [
    "# Exercise 4: Convert the string below to a list\n",
    "\n",
    "#format into string that can be easily split into a list\n",
    "\n",
    "s = \"['apple', 'orange', 'pear', 'cherry']\"\n",
    "\n",
    "#we need to clean it up to be able to use the split function\n",
    "#more efficient to use lstrip and rstrip because they only look at the left-hand\n",
    "#or right-hand side until they find the specific character rather than going through\n",
    "#the whole thing\n",
    "ls = s.replace(\"'\", \"\").lstrip('[').rstrip(']').split(', ')\n",
    "\n",
    "print(ls)\n",
    "\n",
    "#testing if it worked\n",
    "ls[0]\n"
   ]
  },
  {
   "cell_type": "code",
   "execution_count": 73,
   "metadata": {
    "slideshow": {
     "slide_type": "-"
    }
   },
   "outputs": [
    {
     "data": {
      "text/plain": [
       "'reward'"
      ]
     },
     "execution_count": 73,
     "metadata": {},
     "output_type": "execute_result"
    }
   ],
   "source": [
    "# Exercise 5: Reverse the strings below.\n",
    "\n",
    "s1 = 'stressed'\n",
    "s2 = 'drawer'\n",
    "\n",
    "#we can go backwards through indexing:\n",
    "s1[::-1]\n",
    "s2[::-1]\n",
    "\n",
    "#alternative solution through a list, but less efficient!\n",
    "#can apply reversed function to string but we don't get what we would expect (no list)\n",
    "#so we need to convert it to a list and then re-convert to a string\n",
    "''.join(list(reversed(s1)))\n",
    "''.join(list(reversed(s2)))\n",
    "\n"
   ]
  },
  {
   "cell_type": "markdown",
   "metadata": {
    "slideshow": {
     "slide_type": "slide"
    }
   },
   "source": [
    "# Lists\n",
    "\n",
    "* Ordered sequence of values\n",
    "* Mutable"
   ]
  },
  {
   "cell_type": "code",
   "execution_count": 3,
   "metadata": {
    "slideshow": {
     "slide_type": "-"
    }
   },
   "outputs": [
    {
     "name": "stdout",
     "output_type": "stream",
     "text": [
      "[1, 2, 3, 4, 5]\n"
     ]
    }
   ],
   "source": [
    "mylist = [1, 2, 3, 4]\n",
    "mylist.append(5)\n",
    "print(mylist)"
   ]
  },
  {
   "cell_type": "markdown",
   "metadata": {
    "slideshow": {
     "slide_type": "slide"
    }
   },
   "source": [
    "## List Methods\n",
    "\n",
    "* `L.append(e)`\n",
    "* `L.extend(L1)`\n",
    "* `L.insert(i, e)`\n",
    "* `L.remove(e)`\n",
    "* `L.pop(i)`\n",
    "* `L.sort()`\n",
    "* `L.reverse()`"
   ]
  },
  {
   "cell_type": "code",
   "execution_count": 75,
   "metadata": {
    "slideshow": {
     "slide_type": "slide"
    }
   },
   "outputs": [
    {
     "data": {
      "text/plain": [
       "['*', '*', '*', '*', '*', '*', '*', '*', '*', '*']"
      ]
     },
     "execution_count": 75,
     "metadata": {},
     "output_type": "execute_result"
    }
   ],
   "source": [
    "# Exercise 6: Use a list operation to create a list of ten elements, \n",
    "# each of which is '*'\n",
    "\n",
    "#we have to start with a list (['']), otherwise we get a string! \n",
    "10*['*']\n",
    "\n"
   ]
  },
  {
   "cell_type": "code",
   "execution_count": 78,
   "metadata": {
    "slideshow": {
     "slide_type": "-"
    }
   },
   "outputs": [
    {
     "name": "stdout",
     "output_type": "stream",
     "text": [
      "['dogs', 'cows', 'rabbits', 'cats']\n",
      "eat\n",
      "{'grass', 'meat'}\n"
     ]
    }
   ],
   "source": [
    "# Exercise 7: Assign each of the three elements in the list below \n",
    "# to three variables a, b, c\n",
    "ls = [['dogs', 'cows', 'rabbits', 'cats'], 'eat', {'meat', 'grass'}]\n",
    "\n",
    "#can only be done if we know how many elements it has and assing the right no of variables\n",
    "#otherwise we need to do it individually (with an index)!\n",
    "a, b, c = ls\n",
    "print(a)\n",
    "print(b)\n",
    "print(c)"
   ]
  },
  {
   "cell_type": "code",
   "execution_count": 93,
   "metadata": {
    "slideshow": {
     "slide_type": "-"
    }
   },
   "outputs": [
    {
     "name": "stdout",
     "output_type": "stream",
     "text": [
      "[0, 0, 0, 1, 2, 3]\n"
     ]
    }
   ],
   "source": [
    "# Exercise 8: Replace the last element in ls1 with ls2\n",
    "ls1 = [0, 0, 0, 1]\n",
    "ls2 = [1, 2, 3]\n",
    "\n",
    "ls1[3]\n",
    "\n",
    "#?not sure if this is the most efficient?\n",
    "ls1.pop(3)\n",
    "ls1.extend(ls2)\n",
    "\n",
    "print(ls1)\n"
   ]
  },
  {
   "cell_type": "code",
   "execution_count": 95,
   "metadata": {
    "slideshow": {
     "slide_type": "slide"
    }
   },
   "outputs": [
    {
     "name": "stdout",
     "output_type": "stream",
     "text": [
      "{0, 1, 2, 3, 4, 5, 6, 7, 9}\n"
     ]
    }
   ],
   "source": [
    "# Exercise 9: Create a new list that contains only unique elements from list x\n",
    "\n",
    "x = [1, 5, 4, 5, 6, 2, 3, 2, 9, 9, 9, 0, 2, 5, 7]\n",
    "\n",
    "set_x = set(x)\n",
    "\n",
    "print(set_x)\n"
   ]
  },
  {
   "cell_type": "code",
   "execution_count": 21,
   "metadata": {
    "slideshow": {
     "slide_type": "-"
    }
   },
   "outputs": [],
   "source": [
    "# Exercise 10: Print the elements that occur both in list a and list b\n",
    "\n",
    "a = ['red', 'orange', 'brown', 'blue', 'purple', 'green']\n",
    "b = ['blue', 'cyan', 'green', 'pink', 'red', 'yellow']"
   ]
  },
  {
   "cell_type": "code",
   "execution_count": 14,
   "metadata": {
    "slideshow": {
     "slide_type": "-"
    }
   },
   "outputs": [],
   "source": [
    "# Exercise 11: Print the second smallest and the second largest numbers \n",
    "# in this list of unique numbers\n",
    "\n",
    "x = [2, 5, 0.7, 0.2, 0.1, 6, 7, 3, 1, 0, 0.3]\n"
   ]
  },
  {
   "cell_type": "code",
   "execution_count": 15,
   "metadata": {
    "slideshow": {
     "slide_type": "-"
    }
   },
   "outputs": [],
   "source": [
    "# Exercise 12: Create a new list c that contains the elements of \n",
    "# list a and b. Watch out for aliasing - you need to avoid it here.\n",
    "\n",
    "a = [1, 2, 3, 4, 5]\n",
    "b = ['a', 'b', 'c', 'd']\n"
   ]
  },
  {
   "cell_type": "markdown",
   "metadata": {
    "slideshow": {
     "slide_type": "slide"
    }
   },
   "source": [
    "## Problem Set 0 (Formative)\n",
    "\n",
    "* Practice string and list manipulations\n",
    "* Practice working with data\n",
    "  * Data is available in the `data` repository and you should use relative paths to access it\n",
    "    * If you do not have access to the `data` repository, you need to fill out the Moodle survey so that we can add you to the organization. Once we add you, you need to accept our invitation and then you will be able to access the data.\n",
    "  * Do not copy the data in your repository!"
   ]
  }
 ],
 "metadata": {
  "celltoolbar": "Slideshow",
  "kernelspec": {
   "display_name": "Python 3",
   "language": "python",
   "name": "python3"
  },
  "language_info": {
   "codemirror_mode": {
    "name": "ipython",
    "version": 3
   },
   "file_extension": ".py",
   "mimetype": "text/x-python",
   "name": "python",
   "nbconvert_exporter": "python",
   "pygments_lexer": "ipython3",
   "version": "3.9.6"
  }
 },
 "nbformat": 4,
 "nbformat_minor": 2
}
